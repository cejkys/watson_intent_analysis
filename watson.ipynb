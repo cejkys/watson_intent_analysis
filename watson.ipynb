{
 "cells": [
  {
   "cell_type": "code",
   "execution_count": 26,
   "metadata": {},
   "outputs": [],
   "source": [
    "import pandas as pd\n",
    "import requests\n",
    "import json\n",
    "from requests.auth import HTTPBasicAuth\n",
    "from ibm_watson import AssistantV2\n",
    "from ibm_cloud_sdk_core.authenticators import IAMAuthenticator\n",
    "from ibm_watson import ApiException"
   ]
  },
  {
   "cell_type": "code",
   "execution_count": 23,
   "metadata": {},
   "outputs": [],
   "source": [
    "API_KEY = \"ZcZlIC8XY0iSqwFaoQHei9L20VhraaIaW5WJIMPOlTo7\"\n",
    "SERVICE_URL = \"https://api.eu-de.assistant.watson.cloud.ibm.com\"\n",
    "API_APP_URL = \"https://api.eu-de.assistant.watson.cloud.ibm.com/instances/6833047d-680e-4bd1-ace3-2a9e87387e14\"\n",
    "API_ASSISTANT_ID = \"bfe2fe18-c68e-4f54-9891-7bbcc978c76a\"\n",
    "API_VERSION = \"2021-11-27\""
   ]
  },
  {
   "cell_type": "code",
   "execution_count": 5,
   "metadata": {},
   "outputs": [],
   "source": [
    "test    = pd.read_csv('./testset.csv')"
   ]
  },
  {
   "cell_type": "code",
   "execution_count": 8,
   "metadata": {},
   "outputs": [],
   "source": [
    "# Print iterations progress\n",
    "def printProgressBar (iteration, total, prefix = '', suffix = '', decimals = 1, length = 100, fill = 'â–', printEnd = \"\\r\"):\n",
    "    \"\"\"\n",
    "    Call in a loop to create terminal progress bar\n",
    "    @params:\n",
    "        iteration   - Required  : current iteration (Int)\n",
    "        total       - Required  : total iterations (Int)\n",
    "        prefix      - Optional  : prefix string (Str)\n",
    "        suffix      - Optional  : suffix string (Str)\n",
    "        decimals    - Optional  : positive number of decimals in percent complete (Int)\n",
    "        length      - Optional  : character length of bar (Int)\n",
    "        fill        - Optional  : bar fill character (Str)\n",
    "        printEnd    - Optional  : end character (e.g. \"\\r\", \"\\r\\n\") (Str)\n",
    "    \"\"\"\n",
    "    percent = (\"{0:.\" + str(decimals) + \"f}\").format(100 * (iteration / float(total)))\n",
    "    filledLength = int(length * iteration // total)\n",
    "    bar = fill * filledLength + '-' * (length - filledLength)\n",
    "    print(f'\\r{prefix} |{bar}| {percent}% {suffix}', end = printEnd)\n",
    "    # Print New Line on Complete\n",
    "    if iteration == total: \n",
    "        print()"
   ]
  },
  {
   "cell_type": "code",
   "execution_count": 78,
   "metadata": {},
   "outputs": [
    {
     "name": "stdout",
     "output_type": "stream",
     "text": [
      "\"8d5af7fa-6a54-4c37-be6e-2da264ab814c\"\n"
     ]
    }
   ],
   "source": [
    "authenticator = IAMAuthenticator(API_KEY)\n",
    "assistant = AssistantV2(\n",
    "    version=API_VERSION,\n",
    "    authenticator = authenticator\n",
    ")\n",
    "\n",
    "assistant.set_service_url(SERVICE_URL)\n",
    "try:\n",
    "    response = assistant.create_session(\n",
    "        assistant_id=API_ASSISTANT_ID\n",
    "    ).get_result()\n",
    "except ApiException as ex:\n",
    "    print(\"Method failed with status code \" + str(ex.code) + \": \" + ex.message)\n",
    "\n",
    "session_id = json.dumps(response['session_id'])\n",
    "print(session_id)"
   ]
  },
  {
   "cell_type": "code",
   "execution_count": 79,
   "metadata": {},
   "outputs": [
    {
     "name": "stdout",
     "output_type": "stream",
     "text": [
      "What ID do I need to show at the test centre? Test_center\n",
      "\"Test_center\" 0.962119483947754\n",
      "Can I bring some supplies with me? Test_center\n",
      "Can the calculator be used in the test centre? Test_center\n",
      "\"Test_center\" 0.9506243228912354\n",
      "What tools can I bring with me to the test centre? Test_center\n",
      "\"Test_center\" 0.943186092376709\n",
      "How does it work in the test centre? Test_center\n",
      "\"Test_center\" 0.9805212497711182\n",
      "What does the test centre fall under? Test_center\n",
      "\"Test_center\" 0.9770933628082277\n",
      "Who is in charge of the test centre? Test_center\n",
      "\"Test_center\" 0.9610862731933594\n",
      "Which faculty can use the testing center? Test_center\n",
      "\"Test_center\" 0.8064403533935547\n",
      "I missed a test date, I failed my test? Test_center\n",
      "\"Test_center\" 0.9576482772827148\n",
      "Are there any resources or support available for students who have been denied admission? admission\n",
      "\"admission\" 0.892021656036377\n",
      "Are there any opportunities for students to appeal the admissions decision? admission\n",
      "\"admission\" 0.883009672164917\n",
      "What are study programs available? admission\n",
      "\"study_management\" 0.3598700523376465\n",
      "How to submit project in moodle? study_management\n",
      "\"study_management\" 0.9669822216033936\n",
      "Is credit test Mandatory before exam? study_management\n",
      "\"study_management\" 0.698859977722168\n",
      "How to turn off the air conditioning in classrooms? technical_support\n",
      "\"technical_support\" 0.9664878845214844\n",
      "Who takes care of the temperature in the classrooms? technical_support\n",
      "\"technical_support\" 0.7274255275726318\n",
      "How do lockers work? lockers\n",
      "\"lockers\" 0.4905249118804932\n",
      "Who can use the lockers in the corridors? lockers\n",
      "\"lockers\" 0.9003767967224121\n",
      "Whom should I contact in case of emergency in dormitories accomodation\n",
      "\"emergency\" 1\n",
      "Is there vegetarian available in the university? menza\n",
      "\"menza\" 0.6297898292541504\n",
      "Can I apply for a student visa if I have a criminal record? VISA\n",
      "\"VISA\" 0.9431798934936524\n",
      "What are the opening hours of library? library\n",
      "\"library\" 0.8539238452911377\n",
      "Are there any opportunities for students to participate in international sports competitions or events? sports\n",
      "\"activities_and_events\" 0.7239114284515382\n",
      "How should I reach university, I am so lost in Prague? lost_and_found\n",
      "\"lost_and_found\" 0.49243190288543703\n",
      "Where can I get wheelchain inside the university? emergency\n",
      "\"activities_and_events\" 0.34796364307403566\n",
      "Where is the event board inside PEF? activities_and_events\n",
      "\"activities_and_events\" 0.9288343429565431\n",
      "Are laundry facilities available in the university dormitories? laundry\n",
      "\"laundry\" 0.8480061531066896\n"
     ]
    }
   ],
   "source": [
    "example_count = test.shape[0]\n",
    "correctly_detected = 0\n",
    "incorrects = []\n",
    "\n",
    "for i in range(example_count):\n",
    "    query = test['Query'][i]\n",
    "    ground_true = test['Category'][i].replace(' ', '_')\n",
    "    print(query, ground_true)\n",
    "    try:\n",
    "        response = assistant.message(\n",
    "            assistant_id=API_ASSISTANT_ID,\n",
    "            session_id=session_id.strip('\"'),\n",
    "            input={\n",
    "                'message_type': 'text',\n",
    "                'text': query\n",
    "            }\n",
    "        ).get_result()\n",
    "\n",
    "        answer = json.dumps(response['output']['generic'][0]['text'])\n",
    "        if len(response[\"output\"][\"intents\"]) > 0:\n",
    "            intent = json.dumps(response['output']['intents'][0]['intent'])\n",
    "            confidence = json.dumps(response['output']['intents'][0]['confidence'])\n",
    "            print(intent, confidence)    \n",
    "            if(str(intent).strip('\"') == ground_true):\n",
    "                correctly_detected = correctly_detected + 1\n",
    "            else:\n",
    "                incorrects.append(str(query + ',' + intent + ',' + ground_true))\n",
    "        else:\n",
    "            incorrects.append(str(query + ',[]' + ',' + ground_true))\n",
    "    except ApiException as ex:\n",
    "        print(\"Method failed with status code \" + str(ex.code) + \": \" + ex.message)\n",
    "\n"
   ]
  },
  {
   "cell_type": "code",
   "execution_count": 81,
   "metadata": {},
   "outputs": [
    {
     "name": "stdout",
     "output_type": "stream",
     "text": [
      "Number of test examples:  27\n",
      "Correctly detected:  22\n",
      "Incorrectly detected:  5\n",
      "Accuracy:  0.8148148148148148\n",
      "Incorrectly_detected:  ['Can I bring some supplies with me?,[],Test_center', 'What are study programs available?,\"study_management\",admission', 'Whom should I contact in case of emergency in dormitories,\"emergency\",accomodation', 'Are there any opportunities for students to participate in international sports competitions or events?,\"activities_and_events\",sports', 'Where can I get wheelchain inside the university?,\"activities_and_events\",emergency']\n"
     ]
    }
   ],
   "source": [
    "print('Number of test examples: ', example_count)\n",
    "print('Correctly detected: ', correctly_detected)\n",
    "print('Incorrectly detected: ', example_count - correctly_detected)\n",
    "print('Accuracy: ', correctly_detected / example_count)\n",
    "print('Incorrectly_detected: ', incorrects)"
   ]
  },
  {
   "cell_type": "code",
   "execution_count": null,
   "metadata": {},
   "outputs": [],
   "source": []
  }
 ],
 "metadata": {
  "kernelspec": {
   "display_name": "bertopic",
   "language": "python",
   "name": "python3"
  },
  "language_info": {
   "codemirror_mode": {
    "name": "ipython",
    "version": 3
   },
   "file_extension": ".py",
   "mimetype": "text/x-python",
   "name": "python",
   "nbconvert_exporter": "python",
   "pygments_lexer": "ipython3",
   "version": "3.10.9"
  },
  "orig_nbformat": 4
 },
 "nbformat": 4,
 "nbformat_minor": 2
}
