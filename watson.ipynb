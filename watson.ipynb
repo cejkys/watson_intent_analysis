{
 "cells": [
  {
   "cell_type": "code",
   "execution_count": 1,
   "metadata": {},
   "outputs": [],
   "source": [
    "import pandas as pd\n",
    "import requests\n",
    "import json\n",
    "from requests.auth import HTTPBasicAuth\n",
    "from ibm_watson import AssistantV2\n",
    "from ibm_cloud_sdk_core.authenticators import IAMAuthenticator\n",
    "from ibm_watson import ApiException"
   ]
  },
  {
   "cell_type": "code",
   "execution_count": 2,
   "metadata": {},
   "outputs": [],
   "source": [
    "API_KEY = \"\"\n",
    "SERVICE_URL = \"https://api.eu-de.assistant.watson.cloud.ibm.com\"\n",
    "API_APP_URL = \"https://api.eu-de.assistant.watson.cloud.ibm.com/instances/6833047d-680e-4bd1-ace3-2a9e87387e14\"\n",
    "API_ASSISTANT_ID = \"bfe2fe18-c68e-4f54-9891-7bbcc978c76a\"\n",
    "API_VERSION = \"2021-11-27\""
   ]
  },
  {
   "cell_type": "code",
   "execution_count": 17,
   "metadata": {},
   "outputs": [],
   "source": [
    "test    = pd.read_csv('./testset_5.csv')"
   ]
  },
  {
   "cell_type": "code",
   "execution_count": 18,
   "metadata": {},
   "outputs": [
    {
     "name": "stdout",
     "output_type": "stream",
     "text": [
      "\"1195b793-25a2-45d0-9d12-f65779d4651c\"\n"
     ]
    }
   ],
   "source": [
    "authenticator = IAMAuthenticator(API_KEY)\n",
    "assistant = AssistantV2(\n",
    "    version=API_VERSION,\n",
    "    authenticator = authenticator\n",
    ")\n",
    "\n",
    "assistant.set_service_url(SERVICE_URL)\n",
    "try:\n",
    "    response = assistant.create_session(\n",
    "        assistant_id=API_ASSISTANT_ID\n",
    "    ).get_result()\n",
    "except ApiException as ex:\n",
    "    print(\"Method failed with status code \" + str(ex.code) + \": \" + ex.message)\n",
    "\n",
    "session_id = json.dumps(response['session_id'])\n",
    "print(session_id)"
   ]
  },
  {
   "cell_type": "code",
   "execution_count": null,
   "metadata": {},
   "outputs": [],
   "source": [
    "example_count = test.shape[0]\n",
    "correctly_detected = 0\n",
    "incorrects = []\n",
    "\n",
    "for i in range(example_count):\n",
    "    query = test['Query'][i]\n",
    "    ground_true = test['Category'][i].replace(' ', '_')\n",
    "    print(query, ground_true)\n",
    "    try:\n",
    "        response = assistant.message(\n",
    "            assistant_id=API_ASSISTANT_ID,\n",
    "            session_id=session_id.strip('\"'),\n",
    "            input={\n",
    "                'message_type': 'text',\n",
    "                'text': query\n",
    "            }\n",
    "        ).get_result()\n",
    "\n",
    "        answer = json.dumps(response['output']['generic'][0]['text'])\n",
    "        if len(response[\"output\"][\"intents\"]) > 0:\n",
    "            intent = json.dumps(response['output']['intents'][0]['intent'])\n",
    "            confidence = json.dumps(response['output']['intents'][0]['confidence'])\n",
    "            print(intent, confidence)    \n",
    "            if(str(intent).strip('\"') == ground_true):\n",
    "                correctly_detected = correctly_detected + 1\n",
    "            else:\n",
    "                incorrects.append(str(query + ',' + intent + ',' + ground_true))\n",
    "        else:\n",
    "            incorrects.append(str(query + ',[]' + ',' + ground_true))\n",
    "    except ApiException as ex:\n",
    "        print(\"Method failed with status code \" + str(ex.code) + \": \" + ex.message)\n",
    "\n"
   ]
  },
  {
   "cell_type": "code",
   "execution_count": null,
   "metadata": {},
   "outputs": [],
   "source": [
    "print('Number of test examples: ', example_count)\n",
    "print('Correctly detected: ', correctly_detected)\n",
    "print('Incorrectly detected: ', example_count - correctly_detected)\n",
    "print('Accuracy: ', correctly_detected / example_count)\n",
    "print('Incorrectly_detected: ', incorrects)"
   ]
  }
 ],
 "metadata": {
  "kernelspec": {
   "display_name": "bertopic",
   "language": "python",
   "name": "python3"
  },
  "language_info": {
   "codemirror_mode": {
    "name": "ipython",
    "version": 3
   },
   "file_extension": ".py",
   "mimetype": "text/x-python",
   "name": "python",
   "nbconvert_exporter": "python",
   "pygments_lexer": "ipython3",
   "version": "3.10.9"
  },
  "orig_nbformat": 4
 },
 "nbformat": 4,
 "nbformat_minor": 2
}
